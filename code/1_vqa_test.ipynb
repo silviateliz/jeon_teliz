{
 "cells": [
  {
   "cell_type": "markdown",
   "id": "f0ef0786",
   "metadata": {},
   "source": [
    "# VQA testing\n",
    "In this script I test different prompts for the visual content analysis. "
   ]
  },
  {
   "cell_type": "code",
   "execution_count": 3,
   "id": "68c50c84",
   "metadata": {},
   "outputs": [
    {
     "name": "stderr",
     "output_type": "stream",
     "text": [
      "/opt/anaconda3/envs/jeonteliz/lib/python3.10/site-packages/tqdm/auto.py:21: TqdmWarning: IProgress not found. Please update jupyter and ipywidgets. See https://ipywidgets.readthedocs.io/en/stable/user_install.html\n",
      "  from .autonotebook import tqdm as notebook_tqdm\n"
     ]
    }
   ],
   "source": [
    "# Modules\n",
    "from transformers import pipeline\n",
    "from PIL import Image\n",
    "import torch"
   ]
  },
  {
   "cell_type": "code",
   "execution_count": null,
   "id": "99c6504e",
   "metadata": {},
   "outputs": [
    {
     "name": "stderr",
     "output_type": "stream",
     "text": [
      "Fetching 4 files:   0%|          | 0/4 [06:07<?, ?it/s]\n"
     ]
    }
   ],
   "source": [
    "# Load model\n",
    "pipe = pipeline(\"image-text-to-text\", model=\"llava-hf/llava-v1.6-mistral-7b-hf\")\n"
   ]
  }
 ],
 "metadata": {
  "kernelspec": {
   "display_name": "jeonteliz",
   "language": "python",
   "name": "python3"
  },
  "language_info": {
   "codemirror_mode": {
    "name": "ipython",
    "version": 3
   },
   "file_extension": ".py",
   "mimetype": "text/x-python",
   "name": "python",
   "nbconvert_exporter": "python",
   "pygments_lexer": "ipython3",
   "version": "3.10.16"
  }
 },
 "nbformat": 4,
 "nbformat_minor": 5
}
